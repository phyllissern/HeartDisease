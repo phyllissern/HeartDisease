{
 "cells": [
  {
   "cell_type": "markdown",
   "metadata": {
    "id": "J-m80KgQ1-Z3"
   },
   "source": [
    "# CS148 Project 2 - Binary Classification Comparative Methods"
   ]
  },
  {
   "cell_type": "markdown",
   "metadata": {
    "id": "TSR9laCN1-Z5"
   },
   "source": [
    "For this project we're going to attempt a binary classification of a dataset using multiple methods and compare results. \n",
    "\n",
    "Our goals for this project will be to introduce you to several of the most common classification techniques, how to perform them and tweek parameters to optimize outcomes, how to produce and interpret results, and compare performance. You will be asked to analyze your findings and provide explanations for observed performance. \n",
    "\n",
    "Specifically you will be asked to classify whether a <b>patient is suffering from heart disease</b> based on a host of potential medical factors.\n",
    "\n",
    "<b><u>DEFINITIONS</b></u>\n",
    "\n",
    "\n",
    "<b> Binary Classification:</b>\n",
    "In this case a complex dataset has an added 'target' label with one of two options. Your learning algorithm will try to assign one of these labels to the data.\n",
    "\n",
    "<b> Supervised Learning:</b>\n",
    "This data is fully supervised, which means it's been fully labeled and we can trust the veracity of the labeling."
   ]
  },
  {
   "cell_type": "markdown",
   "metadata": {
    "id": "Zacxg4dy1-Z7"
   },
   "source": [
    "## Background: The Dataset "
   ]
  },
  {
   "cell_type": "markdown",
   "metadata": {
    "id": "vKL6UhzY1-Z8"
   },
   "source": [
    "For this exercise we will be using a subset of the UCI Heart Disease dataset, leveraging the fourteen most commonly used attributes. All identifying information about the patient has been scrubbed. \n",
    "\n",
    "The dataset includes 14 columns. The information provided by each column is as follows:\n",
    "<ul>\n",
    "    <li><b>age:</b> Age in years</li>\n",
    "    <li><b>sex:</b> (1 = male; 0 = female)</li>\n",
    "    <li><b>cp:</b> Chest pain type (0 = asymptomatic; 1 = atypical angina; 2 = non-anginal pain; 3 = typical angina)</li>\n",
    "    <li><b>trestbps:</b> Resting blood pressure (in mm Hg on admission to the hospital)</li>\n",
    "    <li><b>cholserum:</b> Cholestoral in mg/dl</li>\n",
    "    <li><b>fbs</b> Fasting blood sugar > 120 mg/dl (1 = true; 0 = false)</li>\n",
    "    <li><b>restecg:</b> Resting electrocardiographic results (0= showing probable or definite left ventricular hypertrophy by Estes' criteria; 1 = normal; 2 = having ST-T wave abnormality (T wave inversions and/or ST elevation or depression of > 0.05 mV))</li>\n",
    "    <li><b>thalach:</b> Maximum heart rate achieved</li>\n",
    "    <li><b>exang:</b> Exercise induced angina (1 = yes; 0 = no)</li>\n",
    "    <li><b>oldpeakST:</b> Depression induced by exercise relative to rest</li>\n",
    "    <li><b>slope:</b> The slope of the peak exercise ST segment (0 = downsloping; 1 = flat; 2 = upsloping)</li>\n",
    "    <li><b>ca:</b> Number of major vessels (0-3) colored by flourosopy</li>\n",
    "    <li><b>thal:</b> 1 = normal; 2 = fixed defect; 7 = reversable defect</li>\n",
    "    <li><b><u>Sick:</u></b> Indicates the presence of Heart disease (True = Disease; False = No disease)</li>\n",
    "</ul>\n",
    "    \n"
   ]
  },
  {
   "cell_type": "markdown",
   "metadata": {
    "id": "S-OS5fRR1-Z9"
   },
   "source": [
    "## Loading Essentials and Helper Functions "
   ]
  },
  {
   "cell_type": "code",
   "execution_count": 27,
   "metadata": {
    "id": "89pf3hlo1-Z-"
   },
   "outputs": [],
   "source": [
    "#Here are a set of libraries we imported to complete this assignment. \n",
    "#Feel free to use these or equivalent libraries for your implementation\n",
    "import numpy as np # linear algebra\n",
    "import pandas as pd # data processing, CSV file I/O (e.g. pd.read_csv)\n",
    "import matplotlib.pyplot as plt # this is used for the plot the graph \n",
    "import os\n",
    "import seaborn as sns # used for plot interactive graph.\n",
    "from sklearn.model_selection import train_test_split, cross_val_score, GridSearchCV\n",
    "from sklearn import metrics\n",
    "from sklearn.svm import SVC  \n",
    "from sklearn.linear_model import LogisticRegression\n",
    "from sklearn.neighbors import KNeighborsClassifier\n",
    "from sklearn.tree import DecisionTreeClassifier\n",
    "from sklearn.cluster import KMeans\n",
    "from sklearn.metrics import confusion_matrix\n",
    "import sklearn.metrics.cluster as smc\n",
    "from sklearn.model_selection import KFold\n",
    "\n",
    "\n",
    "from matplotlib import pyplot\n",
    "import itertools\n",
    "\n",
    "%matplotlib inline\n",
    "\n",
    "import random \n",
    "  \n",
    "random.seed(42) "
   ]
  },
  {
   "cell_type": "markdown",
   "metadata": {
    "id": "WLA8MesY1-aD"
   },
   "source": [
    "## Part 1. Load the Data and Analyze"
   ]
  },
  {
   "cell_type": "markdown",
   "metadata": {
    "id": "7cPvNFAb1-aD"
   },
   "source": [
    "Let's first load our dataset so we'll be able to work with it. (correct the relative path if your notebook is in a different directory than the csv file.)"
   ]
  },
  {
   "cell_type": "code",
   "execution_count": 54,
   "metadata": {
    "id": "yeQ4T7nD1-aE"
   },
   "outputs": [],
   "source": [
    "heartdisease = pd.read_csv('heartdisease.csv') #load the dataset"
   ]
  },
  {
   "cell_type": "markdown",
   "metadata": {
    "id": "gR8RcYxs1-aF"
   },
   "source": [
    "### Now that our data is loaded, let's take a closer look at the dataset we're working with. Use the head method,  the describe method, and the info method to display some of the rows so we can visualize the types of data fields we'll be working with."
   ]
  },
  {
   "cell_type": "code",
   "execution_count": 29,
   "metadata": {
    "id": "aPdUGLr21-aF"
   },
   "outputs": [
    {
     "data": {
      "text/html": [
       "<div>\n",
       "<style scoped>\n",
       "    .dataframe tbody tr th:only-of-type {\n",
       "        vertical-align: middle;\n",
       "    }\n",
       "\n",
       "    .dataframe tbody tr th {\n",
       "        vertical-align: top;\n",
       "    }\n",
       "\n",
       "    .dataframe thead th {\n",
       "        text-align: right;\n",
       "    }\n",
       "</style>\n",
       "<table border=\"1\" class=\"dataframe\">\n",
       "  <thead>\n",
       "    <tr style=\"text-align: right;\">\n",
       "      <th></th>\n",
       "      <th>age</th>\n",
       "      <th>sex</th>\n",
       "      <th>cp</th>\n",
       "      <th>trestbps</th>\n",
       "      <th>chol</th>\n",
       "      <th>fbs</th>\n",
       "      <th>restecg</th>\n",
       "      <th>thalach</th>\n",
       "      <th>exang</th>\n",
       "      <th>oldpeak</th>\n",
       "      <th>slope</th>\n",
       "      <th>ca</th>\n",
       "      <th>thal</th>\n",
       "      <th>sick</th>\n",
       "    </tr>\n",
       "  </thead>\n",
       "  <tbody>\n",
       "    <tr>\n",
       "      <th>0</th>\n",
       "      <td>63</td>\n",
       "      <td>1</td>\n",
       "      <td>3</td>\n",
       "      <td>145</td>\n",
       "      <td>233</td>\n",
       "      <td>1</td>\n",
       "      <td>0</td>\n",
       "      <td>150</td>\n",
       "      <td>0</td>\n",
       "      <td>2.3</td>\n",
       "      <td>0</td>\n",
       "      <td>0</td>\n",
       "      <td>1</td>\n",
       "      <td>False</td>\n",
       "    </tr>\n",
       "    <tr>\n",
       "      <th>1</th>\n",
       "      <td>37</td>\n",
       "      <td>1</td>\n",
       "      <td>2</td>\n",
       "      <td>130</td>\n",
       "      <td>250</td>\n",
       "      <td>0</td>\n",
       "      <td>1</td>\n",
       "      <td>187</td>\n",
       "      <td>0</td>\n",
       "      <td>3.5</td>\n",
       "      <td>0</td>\n",
       "      <td>0</td>\n",
       "      <td>2</td>\n",
       "      <td>False</td>\n",
       "    </tr>\n",
       "    <tr>\n",
       "      <th>2</th>\n",
       "      <td>41</td>\n",
       "      <td>0</td>\n",
       "      <td>1</td>\n",
       "      <td>130</td>\n",
       "      <td>204</td>\n",
       "      <td>0</td>\n",
       "      <td>0</td>\n",
       "      <td>172</td>\n",
       "      <td>0</td>\n",
       "      <td>1.4</td>\n",
       "      <td>2</td>\n",
       "      <td>0</td>\n",
       "      <td>2</td>\n",
       "      <td>False</td>\n",
       "    </tr>\n",
       "    <tr>\n",
       "      <th>3</th>\n",
       "      <td>56</td>\n",
       "      <td>1</td>\n",
       "      <td>1</td>\n",
       "      <td>120</td>\n",
       "      <td>236</td>\n",
       "      <td>0</td>\n",
       "      <td>1</td>\n",
       "      <td>178</td>\n",
       "      <td>0</td>\n",
       "      <td>0.8</td>\n",
       "      <td>2</td>\n",
       "      <td>0</td>\n",
       "      <td>2</td>\n",
       "      <td>False</td>\n",
       "    </tr>\n",
       "    <tr>\n",
       "      <th>4</th>\n",
       "      <td>57</td>\n",
       "      <td>0</td>\n",
       "      <td>0</td>\n",
       "      <td>120</td>\n",
       "      <td>354</td>\n",
       "      <td>0</td>\n",
       "      <td>1</td>\n",
       "      <td>163</td>\n",
       "      <td>1</td>\n",
       "      <td>0.6</td>\n",
       "      <td>2</td>\n",
       "      <td>0</td>\n",
       "      <td>2</td>\n",
       "      <td>False</td>\n",
       "    </tr>\n",
       "  </tbody>\n",
       "</table>\n",
       "</div>"
      ],
      "text/plain": [
       "   age  sex  cp  trestbps  chol  fbs  restecg  thalach  exang  oldpeak  slope  \\\n",
       "0   63    1   3       145   233    1        0      150      0      2.3      0   \n",
       "1   37    1   2       130   250    0        1      187      0      3.5      0   \n",
       "2   41    0   1       130   204    0        0      172      0      1.4      2   \n",
       "3   56    1   1       120   236    0        1      178      0      0.8      2   \n",
       "4   57    0   0       120   354    0        1      163      1      0.6      2   \n",
       "\n",
       "   ca  thal   sick  \n",
       "0   0     1  False  \n",
       "1   0     2  False  \n",
       "2   0     2  False  \n",
       "3   0     2  False  \n",
       "4   0     2  False  "
      ]
     },
     "execution_count": 29,
     "metadata": {},
     "output_type": "execute_result"
    }
   ],
   "source": [
    "heartdisease.head() "
   ]
  },
  {
   "cell_type": "code",
   "execution_count": 30,
   "metadata": {
    "id": "muZ1U7Xw1-aG",
    "scrolled": true
   },
   "outputs": [
    {
     "data": {
      "text/html": [
       "<div>\n",
       "<style scoped>\n",
       "    .dataframe tbody tr th:only-of-type {\n",
       "        vertical-align: middle;\n",
       "    }\n",
       "\n",
       "    .dataframe tbody tr th {\n",
       "        vertical-align: top;\n",
       "    }\n",
       "\n",
       "    .dataframe thead th {\n",
       "        text-align: right;\n",
       "    }\n",
       "</style>\n",
       "<table border=\"1\" class=\"dataframe\">\n",
       "  <thead>\n",
       "    <tr style=\"text-align: right;\">\n",
       "      <th></th>\n",
       "      <th>age</th>\n",
       "      <th>sex</th>\n",
       "      <th>cp</th>\n",
       "      <th>trestbps</th>\n",
       "      <th>chol</th>\n",
       "      <th>fbs</th>\n",
       "      <th>restecg</th>\n",
       "      <th>thalach</th>\n",
       "      <th>exang</th>\n",
       "      <th>oldpeak</th>\n",
       "      <th>slope</th>\n",
       "      <th>ca</th>\n",
       "      <th>thal</th>\n",
       "    </tr>\n",
       "  </thead>\n",
       "  <tbody>\n",
       "    <tr>\n",
       "      <th>count</th>\n",
       "      <td>303.000000</td>\n",
       "      <td>303.000000</td>\n",
       "      <td>303.000000</td>\n",
       "      <td>303.000000</td>\n",
       "      <td>303.000000</td>\n",
       "      <td>303.000000</td>\n",
       "      <td>303.000000</td>\n",
       "      <td>303.000000</td>\n",
       "      <td>303.000000</td>\n",
       "      <td>303.000000</td>\n",
       "      <td>303.000000</td>\n",
       "      <td>303.000000</td>\n",
       "      <td>303.000000</td>\n",
       "    </tr>\n",
       "    <tr>\n",
       "      <th>mean</th>\n",
       "      <td>54.366337</td>\n",
       "      <td>0.683168</td>\n",
       "      <td>0.966997</td>\n",
       "      <td>131.623762</td>\n",
       "      <td>246.264026</td>\n",
       "      <td>0.148515</td>\n",
       "      <td>0.528053</td>\n",
       "      <td>149.646865</td>\n",
       "      <td>0.326733</td>\n",
       "      <td>1.039604</td>\n",
       "      <td>1.399340</td>\n",
       "      <td>0.729373</td>\n",
       "      <td>2.313531</td>\n",
       "    </tr>\n",
       "    <tr>\n",
       "      <th>std</th>\n",
       "      <td>9.082101</td>\n",
       "      <td>0.466011</td>\n",
       "      <td>1.032052</td>\n",
       "      <td>17.538143</td>\n",
       "      <td>51.830751</td>\n",
       "      <td>0.356198</td>\n",
       "      <td>0.525860</td>\n",
       "      <td>22.905161</td>\n",
       "      <td>0.469794</td>\n",
       "      <td>1.161075</td>\n",
       "      <td>0.616226</td>\n",
       "      <td>1.022606</td>\n",
       "      <td>0.612277</td>\n",
       "    </tr>\n",
       "    <tr>\n",
       "      <th>min</th>\n",
       "      <td>29.000000</td>\n",
       "      <td>0.000000</td>\n",
       "      <td>0.000000</td>\n",
       "      <td>94.000000</td>\n",
       "      <td>126.000000</td>\n",
       "      <td>0.000000</td>\n",
       "      <td>0.000000</td>\n",
       "      <td>71.000000</td>\n",
       "      <td>0.000000</td>\n",
       "      <td>0.000000</td>\n",
       "      <td>0.000000</td>\n",
       "      <td>0.000000</td>\n",
       "      <td>0.000000</td>\n",
       "    </tr>\n",
       "    <tr>\n",
       "      <th>25%</th>\n",
       "      <td>47.500000</td>\n",
       "      <td>0.000000</td>\n",
       "      <td>0.000000</td>\n",
       "      <td>120.000000</td>\n",
       "      <td>211.000000</td>\n",
       "      <td>0.000000</td>\n",
       "      <td>0.000000</td>\n",
       "      <td>133.500000</td>\n",
       "      <td>0.000000</td>\n",
       "      <td>0.000000</td>\n",
       "      <td>1.000000</td>\n",
       "      <td>0.000000</td>\n",
       "      <td>2.000000</td>\n",
       "    </tr>\n",
       "    <tr>\n",
       "      <th>50%</th>\n",
       "      <td>55.000000</td>\n",
       "      <td>1.000000</td>\n",
       "      <td>1.000000</td>\n",
       "      <td>130.000000</td>\n",
       "      <td>240.000000</td>\n",
       "      <td>0.000000</td>\n",
       "      <td>1.000000</td>\n",
       "      <td>153.000000</td>\n",
       "      <td>0.000000</td>\n",
       "      <td>0.800000</td>\n",
       "      <td>1.000000</td>\n",
       "      <td>0.000000</td>\n",
       "      <td>2.000000</td>\n",
       "    </tr>\n",
       "    <tr>\n",
       "      <th>75%</th>\n",
       "      <td>61.000000</td>\n",
       "      <td>1.000000</td>\n",
       "      <td>2.000000</td>\n",
       "      <td>140.000000</td>\n",
       "      <td>274.500000</td>\n",
       "      <td>0.000000</td>\n",
       "      <td>1.000000</td>\n",
       "      <td>166.000000</td>\n",
       "      <td>1.000000</td>\n",
       "      <td>1.600000</td>\n",
       "      <td>2.000000</td>\n",
       "      <td>1.000000</td>\n",
       "      <td>3.000000</td>\n",
       "    </tr>\n",
       "    <tr>\n",
       "      <th>max</th>\n",
       "      <td>77.000000</td>\n",
       "      <td>1.000000</td>\n",
       "      <td>3.000000</td>\n",
       "      <td>200.000000</td>\n",
       "      <td>564.000000</td>\n",
       "      <td>1.000000</td>\n",
       "      <td>2.000000</td>\n",
       "      <td>202.000000</td>\n",
       "      <td>1.000000</td>\n",
       "      <td>6.200000</td>\n",
       "      <td>2.000000</td>\n",
       "      <td>4.000000</td>\n",
       "      <td>3.000000</td>\n",
       "    </tr>\n",
       "  </tbody>\n",
       "</table>\n",
       "</div>"
      ],
      "text/plain": [
       "              age         sex          cp    trestbps        chol         fbs  \\\n",
       "count  303.000000  303.000000  303.000000  303.000000  303.000000  303.000000   \n",
       "mean    54.366337    0.683168    0.966997  131.623762  246.264026    0.148515   \n",
       "std      9.082101    0.466011    1.032052   17.538143   51.830751    0.356198   \n",
       "min     29.000000    0.000000    0.000000   94.000000  126.000000    0.000000   \n",
       "25%     47.500000    0.000000    0.000000  120.000000  211.000000    0.000000   \n",
       "50%     55.000000    1.000000    1.000000  130.000000  240.000000    0.000000   \n",
       "75%     61.000000    1.000000    2.000000  140.000000  274.500000    0.000000   \n",
       "max     77.000000    1.000000    3.000000  200.000000  564.000000    1.000000   \n",
       "\n",
       "          restecg     thalach       exang     oldpeak       slope          ca  \\\n",
       "count  303.000000  303.000000  303.000000  303.000000  303.000000  303.000000   \n",
       "mean     0.528053  149.646865    0.326733    1.039604    1.399340    0.729373   \n",
       "std      0.525860   22.905161    0.469794    1.161075    0.616226    1.022606   \n",
       "min      0.000000   71.000000    0.000000    0.000000    0.000000    0.000000   \n",
       "25%      0.000000  133.500000    0.000000    0.000000    1.000000    0.000000   \n",
       "50%      1.000000  153.000000    0.000000    0.800000    1.000000    0.000000   \n",
       "75%      1.000000  166.000000    1.000000    1.600000    2.000000    1.000000   \n",
       "max      2.000000  202.000000    1.000000    6.200000    2.000000    4.000000   \n",
       "\n",
       "             thal  \n",
       "count  303.000000  \n",
       "mean     2.313531  \n",
       "std      0.612277  \n",
       "min      0.000000  \n",
       "25%      2.000000  \n",
       "50%      2.000000  \n",
       "75%      3.000000  \n",
       "max      3.000000  "
      ]
     },
     "execution_count": 30,
     "metadata": {},
     "output_type": "execute_result"
    }
   ],
   "source": [
    "heartdisease.describe()"
   ]
  },
  {
   "cell_type": "markdown",
   "metadata": {
    "id": "xU8MbRlO1-aI"
   },
   "source": [
    "### Sometimes data will be stored in different formats (e.g., string, date, boolean), but many learning methods work strictly on numeric inputs. Call the info method to determine the datafield type for each column. Are there any that are problemmatic and why?"
   ]
  },
  {
   "cell_type": "code",
   "execution_count": 31,
   "metadata": {},
   "outputs": [
    {
     "name": "stdout",
     "output_type": "stream",
     "text": [
      "<class 'pandas.core.frame.DataFrame'>\n",
      "RangeIndex: 303 entries, 0 to 302\n",
      "Data columns (total 14 columns):\n",
      " #   Column    Non-Null Count  Dtype  \n",
      "---  ------    --------------  -----  \n",
      " 0   age       303 non-null    int64  \n",
      " 1   sex       303 non-null    int64  \n",
      " 2   cp        303 non-null    int64  \n",
      " 3   trestbps  303 non-null    int64  \n",
      " 4   chol      303 non-null    int64  \n",
      " 5   fbs       303 non-null    int64  \n",
      " 6   restecg   303 non-null    int64  \n",
      " 7   thalach   303 non-null    int64  \n",
      " 8   exang     303 non-null    int64  \n",
      " 9   oldpeak   303 non-null    float64\n",
      " 10  slope     303 non-null    int64  \n",
      " 11  ca        303 non-null    int64  \n",
      " 12  thal      303 non-null    int64  \n",
      " 13  sick      303 non-null    bool   \n",
      "dtypes: bool(1), float64(1), int64(12)\n",
      "memory usage: 31.2 KB\n"
     ]
    }
   ],
   "source": [
    "heartdisease.info()"
   ]
  },
  {
   "cell_type": "markdown",
   "metadata": {
    "id": "kdEqf_n01-aJ"
   },
   "source": [
    "The data looks pretty good already, since most of the data types are numerical. However, the only one that needs to be converted to numerical values is the 'sick' column, which currently has boolean data type. This is shouldn't be too difficult to convert, as we can assign '0' for False and '1' for True. "
   ]
  },
  {
   "cell_type": "markdown",
   "metadata": {
    "id": "lZJswqId1-aJ"
   },
   "source": [
    "### Determine if we're dealing with any null values. If so, report on which columns? "
   ]
  },
  {
   "cell_type": "code",
   "execution_count": 32,
   "metadata": {
    "id": "LFiFL0Qt1-aK"
   },
   "outputs": [
    {
     "data": {
      "text/plain": [
       "age         0\n",
       "sex         0\n",
       "cp          0\n",
       "trestbps    0\n",
       "chol        0\n",
       "fbs         0\n",
       "restecg     0\n",
       "thalach     0\n",
       "exang       0\n",
       "oldpeak     0\n",
       "slope       0\n",
       "ca          0\n",
       "thal        0\n",
       "sick        0\n",
       "dtype: int64"
      ]
     },
     "execution_count": 32,
     "metadata": {},
     "output_type": "execute_result"
    }
   ],
   "source": [
    "heartdisease.isnull().sum()"
   ]
  },
  {
   "cell_type": "markdown",
   "metadata": {
    "id": "L6WOThx71-aL"
   },
   "source": [
    "The heart disease dataset does not contain any null values, so we do not need to impute any of the data."
   ]
  },
  {
   "cell_type": "markdown",
   "metadata": {
    "id": "0hl4xIdL1-aM"
   },
   "source": [
    "### Before we begin our analysis we need to fix the field(s) that will be problematic. Specifically convert our boolean sick variable into a binary numeric target variable (values of either '0' or '1'), and then drop the original sick datafield from the dataframe. (hint: try label encoder or .astype()"
   ]
  },
  {
   "cell_type": "code",
   "execution_count": 33,
   "metadata": {
    "id": "nDmfWcDO1-aM"
   },
   "outputs": [
    {
     "data": {
      "text/html": [
       "<div>\n",
       "<style scoped>\n",
       "    .dataframe tbody tr th:only-of-type {\n",
       "        vertical-align: middle;\n",
       "    }\n",
       "\n",
       "    .dataframe tbody tr th {\n",
       "        vertical-align: top;\n",
       "    }\n",
       "\n",
       "    .dataframe thead th {\n",
       "        text-align: right;\n",
       "    }\n",
       "</style>\n",
       "<table border=\"1\" class=\"dataframe\">\n",
       "  <thead>\n",
       "    <tr style=\"text-align: right;\">\n",
       "      <th></th>\n",
       "      <th>age</th>\n",
       "      <th>sex</th>\n",
       "      <th>cp</th>\n",
       "      <th>trestbps</th>\n",
       "      <th>chol</th>\n",
       "      <th>fbs</th>\n",
       "      <th>restecg</th>\n",
       "      <th>thalach</th>\n",
       "      <th>exang</th>\n",
       "      <th>oldpeak</th>\n",
       "      <th>slope</th>\n",
       "      <th>ca</th>\n",
       "      <th>thal</th>\n",
       "      <th>sick</th>\n",
       "    </tr>\n",
       "  </thead>\n",
       "  <tbody>\n",
       "    <tr>\n",
       "      <th>0</th>\n",
       "      <td>63</td>\n",
       "      <td>1</td>\n",
       "      <td>3</td>\n",
       "      <td>145</td>\n",
       "      <td>233</td>\n",
       "      <td>1</td>\n",
       "      <td>0</td>\n",
       "      <td>150</td>\n",
       "      <td>0</td>\n",
       "      <td>2.3</td>\n",
       "      <td>0</td>\n",
       "      <td>0</td>\n",
       "      <td>1</td>\n",
       "      <td>0</td>\n",
       "    </tr>\n",
       "    <tr>\n",
       "      <th>1</th>\n",
       "      <td>37</td>\n",
       "      <td>1</td>\n",
       "      <td>2</td>\n",
       "      <td>130</td>\n",
       "      <td>250</td>\n",
       "      <td>0</td>\n",
       "      <td>1</td>\n",
       "      <td>187</td>\n",
       "      <td>0</td>\n",
       "      <td>3.5</td>\n",
       "      <td>0</td>\n",
       "      <td>0</td>\n",
       "      <td>2</td>\n",
       "      <td>0</td>\n",
       "    </tr>\n",
       "    <tr>\n",
       "      <th>2</th>\n",
       "      <td>41</td>\n",
       "      <td>0</td>\n",
       "      <td>1</td>\n",
       "      <td>130</td>\n",
       "      <td>204</td>\n",
       "      <td>0</td>\n",
       "      <td>0</td>\n",
       "      <td>172</td>\n",
       "      <td>0</td>\n",
       "      <td>1.4</td>\n",
       "      <td>2</td>\n",
       "      <td>0</td>\n",
       "      <td>2</td>\n",
       "      <td>0</td>\n",
       "    </tr>\n",
       "    <tr>\n",
       "      <th>3</th>\n",
       "      <td>56</td>\n",
       "      <td>1</td>\n",
       "      <td>1</td>\n",
       "      <td>120</td>\n",
       "      <td>236</td>\n",
       "      <td>0</td>\n",
       "      <td>1</td>\n",
       "      <td>178</td>\n",
       "      <td>0</td>\n",
       "      <td>0.8</td>\n",
       "      <td>2</td>\n",
       "      <td>0</td>\n",
       "      <td>2</td>\n",
       "      <td>0</td>\n",
       "    </tr>\n",
       "    <tr>\n",
       "      <th>4</th>\n",
       "      <td>57</td>\n",
       "      <td>0</td>\n",
       "      <td>0</td>\n",
       "      <td>120</td>\n",
       "      <td>354</td>\n",
       "      <td>0</td>\n",
       "      <td>1</td>\n",
       "      <td>163</td>\n",
       "      <td>1</td>\n",
       "      <td>0.6</td>\n",
       "      <td>2</td>\n",
       "      <td>0</td>\n",
       "      <td>2</td>\n",
       "      <td>0</td>\n",
       "    </tr>\n",
       "    <tr>\n",
       "      <th>...</th>\n",
       "      <td>...</td>\n",
       "      <td>...</td>\n",
       "      <td>...</td>\n",
       "      <td>...</td>\n",
       "      <td>...</td>\n",
       "      <td>...</td>\n",
       "      <td>...</td>\n",
       "      <td>...</td>\n",
       "      <td>...</td>\n",
       "      <td>...</td>\n",
       "      <td>...</td>\n",
       "      <td>...</td>\n",
       "      <td>...</td>\n",
       "      <td>...</td>\n",
       "    </tr>\n",
       "    <tr>\n",
       "      <th>298</th>\n",
       "      <td>57</td>\n",
       "      <td>0</td>\n",
       "      <td>0</td>\n",
       "      <td>140</td>\n",
       "      <td>241</td>\n",
       "      <td>0</td>\n",
       "      <td>1</td>\n",
       "      <td>123</td>\n",
       "      <td>1</td>\n",
       "      <td>0.2</td>\n",
       "      <td>1</td>\n",
       "      <td>0</td>\n",
       "      <td>3</td>\n",
       "      <td>1</td>\n",
       "    </tr>\n",
       "    <tr>\n",
       "      <th>299</th>\n",
       "      <td>45</td>\n",
       "      <td>1</td>\n",
       "      <td>3</td>\n",
       "      <td>110</td>\n",
       "      <td>264</td>\n",
       "      <td>0</td>\n",
       "      <td>1</td>\n",
       "      <td>132</td>\n",
       "      <td>0</td>\n",
       "      <td>1.2</td>\n",
       "      <td>1</td>\n",
       "      <td>0</td>\n",
       "      <td>3</td>\n",
       "      <td>1</td>\n",
       "    </tr>\n",
       "    <tr>\n",
       "      <th>300</th>\n",
       "      <td>68</td>\n",
       "      <td>1</td>\n",
       "      <td>0</td>\n",
       "      <td>144</td>\n",
       "      <td>193</td>\n",
       "      <td>1</td>\n",
       "      <td>1</td>\n",
       "      <td>141</td>\n",
       "      <td>0</td>\n",
       "      <td>3.4</td>\n",
       "      <td>1</td>\n",
       "      <td>2</td>\n",
       "      <td>3</td>\n",
       "      <td>1</td>\n",
       "    </tr>\n",
       "    <tr>\n",
       "      <th>301</th>\n",
       "      <td>57</td>\n",
       "      <td>1</td>\n",
       "      <td>0</td>\n",
       "      <td>130</td>\n",
       "      <td>131</td>\n",
       "      <td>0</td>\n",
       "      <td>1</td>\n",
       "      <td>115</td>\n",
       "      <td>1</td>\n",
       "      <td>1.2</td>\n",
       "      <td>1</td>\n",
       "      <td>1</td>\n",
       "      <td>3</td>\n",
       "      <td>1</td>\n",
       "    </tr>\n",
       "    <tr>\n",
       "      <th>302</th>\n",
       "      <td>57</td>\n",
       "      <td>0</td>\n",
       "      <td>1</td>\n",
       "      <td>130</td>\n",
       "      <td>236</td>\n",
       "      <td>0</td>\n",
       "      <td>0</td>\n",
       "      <td>174</td>\n",
       "      <td>0</td>\n",
       "      <td>0.0</td>\n",
       "      <td>1</td>\n",
       "      <td>1</td>\n",
       "      <td>2</td>\n",
       "      <td>1</td>\n",
       "    </tr>\n",
       "  </tbody>\n",
       "</table>\n",
       "<p>303 rows × 14 columns</p>\n",
       "</div>"
      ],
      "text/plain": [
       "     age  sex  cp  trestbps  chol  fbs  restecg  thalach  exang  oldpeak  \\\n",
       "0     63    1   3       145   233    1        0      150      0      2.3   \n",
       "1     37    1   2       130   250    0        1      187      0      3.5   \n",
       "2     41    0   1       130   204    0        0      172      0      1.4   \n",
       "3     56    1   1       120   236    0        1      178      0      0.8   \n",
       "4     57    0   0       120   354    0        1      163      1      0.6   \n",
       "..   ...  ...  ..       ...   ...  ...      ...      ...    ...      ...   \n",
       "298   57    0   0       140   241    0        1      123      1      0.2   \n",
       "299   45    1   3       110   264    0        1      132      0      1.2   \n",
       "300   68    1   0       144   193    1        1      141      0      3.4   \n",
       "301   57    1   0       130   131    0        1      115      1      1.2   \n",
       "302   57    0   1       130   236    0        0      174      0      0.0   \n",
       "\n",
       "     slope  ca  thal  sick  \n",
       "0        0   0     1     0  \n",
       "1        0   0     2     0  \n",
       "2        2   0     2     0  \n",
       "3        2   0     2     0  \n",
       "4        2   0     2     0  \n",
       "..     ...  ..   ...   ...  \n",
       "298      1   0     3     1  \n",
       "299      1   0     3     1  \n",
       "300      1   2     3     1  \n",
       "301      1   1     3     1  \n",
       "302      1   1     2     1  \n",
       "\n",
       "[303 rows x 14 columns]"
      ]
     },
     "execution_count": 33,
     "metadata": {},
     "output_type": "execute_result"
    }
   ],
   "source": [
    "heartdisease['sick'] = heartdisease['sick'].astype(int)\n",
    "heartdisease"
   ]
  },
  {
   "cell_type": "markdown",
   "metadata": {
    "id": "YDbsCOog1-aN"
   },
   "source": [
    "### Now that we have a feel for the data-types for each of the variables, plot histograms of each field and attempt to ascertain how each variable performs (is it a binary, or limited selection, or does it follow a gradient? "
   ]
  },
  {
   "cell_type": "code",
   "execution_count": 34,
   "metadata": {
    "id": "cYlbbySv1-aO"
   },
   "outputs": [
    {
     "data": {
      "image/png": "[encoded data removed]",
      "text/plain": [
       "<Figure size 1440x864 with 16 Axes>"
      ]
     },
     "metadata": {
      "needs_background": "light"
     },
     "output_type": "display_data"
    }
   ],
   "source": [
    "heartdisease.hist(bins = 5, figsize=(20,12))\n",
    "plt.show()"
   ]
  },
  {
   "cell_type": "markdown",
   "metadata": {},
   "source": [
    "The binary variables include sex, fbs, exang, and sick. The limited selection variables are cp, restecg, slope, ca, and thal. The gradient variables are age, trestbps, chol, thalach, and oldpeak."
   ]
  },
  {
   "cell_type": "markdown",
   "metadata": {
    "id": "CZwpu5xZ1-aP"
   },
   "source": [
    "### We also want to make sure we are dealing with a balanced dataset. In this case, we want to confirm whether or not we have an equitable number of  sick and healthy individuals to ensure that our classifier will have a sufficiently balanced dataset to adequately classify the two. Plot a histogram specifically of the sick target, and conduct a count of the number of sick and healthy individuals and report on the results: "
   ]
  },
  {
   "cell_type": "code",
   "execution_count": 35,
   "metadata": {
    "id": "Qo0tH8sS1-aP"
   },
   "outputs": [
    {
     "data": {
      "text/plain": [
       "0    165\n",
       "1    138\n",
       "Name: sick, dtype: int64"
      ]
     },
     "execution_count": 35,
     "metadata": {},
     "output_type": "execute_result"
    },
    {
     "data": {
      "image/png": "[encoded data removed]",
      "text/plain": [
       "<Figure size 432x288 with 1 Axes>"
      ]
     },
     "metadata": {
      "needs_background": "light"
     },
     "output_type": "display_data"
    }
   ],
   "source": [
    "sickcount = heartdisease[heartdisease['sick'] == 1].shape[0] #number of sick individuals\n",
    "healthycount = heartdisease[heartdisease['sick'] == 0].shape[0] #number of healthy individuals\n",
    "\n",
    "#plotting count of sick and healthy individuals\n",
    "plt.bar(x=['healthy','sick'], height=[healthycount, sickcount], width = 0.5)\n",
    "plt.title('Number of Sick and Healthy Individuals')\n",
    "plt.xlabel('Healthiness of Individual')\n",
    "plt.ylabel('Count of Individuals')\n",
    "\n",
    "heartdisease['sick'].value_counts()\n"
   ]
  },
  {
   "cell_type": "markdown",
   "metadata": {
    "id": "bvsiRGhQ1-aQ"
   },
   "source": [
    "This data set has 165 healthy individuals and 138 sick individuals. The number of individuals in each set is roughly equal, so this dataset is balanced enough to adequately classify the two."
   ]
  },
  {
   "cell_type": "markdown",
   "metadata": {
    "id": "hQe3iBYT1-aR"
   },
   "source": [
    "### Balanced datasets are important to ensure that classifiers train adequately and don't overfit, however arbitrary balancing of a dataset might introduce its own issues. Discuss some of the problems that might arise by artificially balancing a dataset."
   ]
  },
  {
   "cell_type": "markdown",
   "metadata": {
    "id": "hRSII0PO1-aR"
   },
   "source": [
    "A problem that might arise by artificially balancing a dataset is by introducing bias into the dataset. To artificially balance a dataset, you could throw out data from the category that has more samples. However, this gets rid of data that could potentially be used. The other way is to generate more data for the category that has less samples. However, this also depends on the model being used to generate the data. Both of these methods could introduce bias into the data, which could also potentially change the correlation of the features. There also might be a reason for the imbalanced dataset, so balancing it would mess with the frequencies in the dat, loosing further information.  "
   ]
  },
  {
   "cell_type": "markdown",
   "metadata": {
    "id": "3v1_1HFC1-aS"
   },
   "source": [
    "### Now that we have our dataframe prepared let's start analyzing our data. For this next question let's look at the correlations of our variables to our target value. First, map out the correlations between the values, and then discuss the relationships you observe. Do some research on the variables to understand why they may relate to the observed corellations. Intuitively, why do you think some variables correlate more highly than others (hint: one possible approach you can use the sns heatmap function to map the corr() method)?"
   ]
  },
  {
   "cell_type": "code",
   "execution_count": 36,
   "metadata": {
    "id": "XXAfCjem1-aS"
   },
   "outputs": [
    {
     "name": "stdout",
     "output_type": "stream",
     "text": [
      "               age       sex        cp  trestbps      chol       fbs  \\\n",
      "age       1.000000 -0.098447 -0.068653  0.279351  0.213678  0.121308   \n",
      "sex      -0.098447  1.000000 -0.049353 -0.056769 -0.197912  0.045032   \n",
      "cp       -0.068653 -0.049353  1.000000  0.047608 -0.076904  0.094444   \n",
      "trestbps  0.279351 -0.056769  0.047608  1.000000  0.123174  0.177531   \n",
      "chol      0.213678 -0.197912 -0.076904  0.123174  1.000000  0.013294   \n",
      "fbs       0.121308  0.045032  0.094444  0.177531  0.013294  1.000000   \n",
      "restecg  -0.116211 -0.058196  0.044421 -0.114103 -0.151040 -0.084189   \n",
      "thalach  -0.398522 -0.044020  0.295762 -0.046698 -0.009940 -0.008567   \n",
      "exang     0.096801  0.141664 -0.394280  0.067616  0.067023  0.025665   \n",
      "oldpeak   0.210013  0.096093 -0.149230  0.193216  0.053952  0.005747   \n",
      "slope    -0.168814 -0.030711  0.119717 -0.121475 -0.004038 -0.059894   \n",
      "ca        0.276326  0.118261 -0.181053  0.101389  0.070511  0.137979   \n",
      "thal      0.068001  0.210041 -0.161736  0.062210  0.098803 -0.032019   \n",
      "sick      0.225439  0.280937 -0.433798  0.144931  0.085239  0.028046   \n",
      "\n",
      "           restecg   thalach     exang   oldpeak     slope        ca  \\\n",
      "age      -0.116211 -0.398522  0.096801  0.210013 -0.168814  0.276326   \n",
      "sex      -0.058196 -0.044020  0.141664  0.096093 -0.030711  0.118261   \n",
      "cp        0.044421  0.295762 -0.394280 -0.149230  0.119717 -0.181053   \n",
      "trestbps -0.114103 -0.046698  0.067616  0.193216 -0.121475  0.101389   \n",
      "chol     -0.151040 -0.009940  0.067023  0.053952 -0.004038  0.070511   \n",
      "fbs      -0.084189 -0.008567  0.025665  0.005747 -0.059894  0.137979   \n",
      "restecg   1.000000  0.044123 -0.070733 -0.058770  0.093045 -0.072042   \n",
      "thalach   0.044123  1.000000 -0.378812 -0.344187  0.386784 -0.213177   \n",
      "exang    -0.070733 -0.378812  1.000000  0.288223 -0.257748  0.115739   \n",
      "oldpeak  -0.058770 -0.344187  0.288223  1.000000 -0.577537  0.222682   \n",
      "slope     0.093045  0.386784 -0.257748 -0.577537  1.000000 -0.080155   \n",
      "ca       -0.072042 -0.213177  0.115739  0.222682 -0.080155  1.000000   \n",
      "thal     -0.011981 -0.096439  0.206754  0.210244 -0.104764  0.151832   \n",
      "sick     -0.137230 -0.421741  0.436757  0.430696 -0.345877  0.391724   \n",
      "\n",
      "              thal      sick  \n",
      "age       0.068001  0.225439  \n",
      "sex       0.210041  0.280937  \n",
      "cp       -0.161736 -0.433798  \n",
      "trestbps  0.062210  0.144931  \n",
      "chol      0.098803  0.085239  \n",
      "fbs      -0.032019  0.028046  \n",
      "restecg  -0.011981 -0.137230  \n",
      "thalach  -0.096439 -0.421741  \n",
      "exang     0.206754  0.436757  \n",
      "oldpeak   0.210244  0.430696  \n",
      "slope    -0.104764 -0.345877  \n",
      "ca        0.151832  0.391724  \n",
      "thal      1.000000  0.344029  \n",
      "sick      0.344029  1.000000  \n"
     ]
    },
    {
     "data": {
      "image/png": "[encoded data removed]",
      "text/plain": [
       "<Figure size 1440x1080 with 2 Axes>"
      ]
     },
     "metadata": {
      "needs_background": "light"
     },
     "output_type": "display_data"
    }
   ],
   "source": [
    "print(heartdisease.corr()) #printing correlation values\n",
    "\n",
    "#plotting heatmap of correlations between variables\n",
    "plt.figure(figsize=(20,15))\n",
    "plt.title('Correlations between Variables')\n",
    "corrvalues = sns.heatmap(heartdisease.corr(), cmap=\"YlGnBu\", annot=True)\n",
    "plt.show()"
   ]
  },
  {
   "cell_type": "markdown",
   "metadata": {
    "id": "osMk-hMm1-aT"
   },
   "source": [
    "There are several variables that show correlation. There is a positive correlation (0.44) between variables \"sick\" and \"exang,\" which refers to the presence of exercise induced angina. This makes sense because exercise induced angina is a type of pain in the lower chest or belly, which is related to the feeling of being sick or nauseous. There also a positive correlation (0.43) between \"sick\" and \"oldpeak,\" which refers to depression induced by exercise relative to rest. This makes sense because people don't tend to get depressed when they exercise. Another positive correlation (0.39) is between variables \"thalach,\" which refers to maximum heart rate achieved, and \"slope,\" which refers to the activity of blood flow in the heart. For example, having a downslope, means the slope is decreasing, therefore, blood is flowing back into the heart when it is trying to pump blood out. This is linked to weaker hearts, and also having a lower maximum heart rate. Lastly, there is also a positive correlation (0.39) between \"sick\" and  \"ca,\" which refers to number of major vessels colored by fluoroscopy. Fluoroscopy is a procedure that allows real-time video of movements inside the body. More blood vessels being visible could indicate blood clotting, which results in sickness.\n",
    "\n",
    "There is a negative correlation (-0.58) between variables \"oldpeak\" and \"slope.\" This could be explained because a downsloping ST segment is unhealthy, so it could be correlated with higher depression induced by exercise. There is also a negative correlation (-0.42) between variables \"sick\" and \"thalach.\" The higher the maximum heart rate, the more healthy the individual is. Another negative correlation (-0.35) is between variables \"sick\" and \"slope.\" Again, this could be due to having a downsloping ST segment, which is unhealthy, leading to a individual being sick."
   ]
  },
  {
   "cell_type": "markdown",
   "metadata": {
    "id": "xc_52Cut1-aT"
   },
   "source": [
    "## Part 2. Prepare the 'Raw' Data and run a KNN Model"
   ]
  },
  {
   "cell_type": "markdown",
   "metadata": {
    "id": "MZ6wr3Xc1-aU"
   },
   "source": [
    "Before running our various learning methods, we need to do some additional prep to finalize our data. Specifically you'll have to cut the classification target from the data that will be used to classify, and then you'll have to divide the dataset into training and testing cohorts.\n",
    "\n",
    "Specifically, we're going to ask you to prepare 2 batches of data: 1. Will simply be the raw numeric data that hasn't gone through any additional pre-processing. The other, will be data that you pipeline using your own selected methods. We will then feed both of these datasets into a classifier to showcase just how important this step can be!"
   ]
  },
  {
   "cell_type": "markdown",
   "metadata": {
    "id": "piz-mp0o1-aV"
   },
   "source": [
    "### Save the label column as a separate array and then drop it from the dataframe. "
   ]
  },
  {
   "cell_type": "code",
   "execution_count": 55,
   "metadata": {
    "id": "8svzGB-A1-aV"
   },
   "outputs": [],
   "source": [
    "heartdisease_labels = heartdisease['sick'].copy() #creating a copy of the labels\n",
    "\n",
    "heartdisease = heartdisease.drop('sick', axis = 1) #dropping the labels from the dataframe"
   ]
  },
  {
   "cell_type": "markdown",
   "metadata": {
    "id": "LG7ri8V11-aW"
   },
   "source": [
    "### First Create your 'Raw' unprocessed training data by dividing your dataframe into training and testing cohorts, with your training cohort consisting of 80% of your total dataframe (hint: use the train_test_split() method) Output the resulting shapes of your training and testing samples to confirm that your split was successful."
   ]
  },
  {
   "cell_type": "code",
   "execution_count": 132,
   "metadata": {
    "id": "vmjpma2F1-aX"
   },
   "outputs": [
    {
     "name": "stdout",
     "output_type": "stream",
     "text": [
      "Xrawtrain shape: (242, 13)\n",
      "Xrawtest shape: (61, 13)\n",
      "Ytrain shape: (242,)\n",
      "Ytest shape: (61,)\n"
     ]
    }
   ],
   "source": [
    "#splitting into training and testing data\n",
    "Xrawtrain, Xrawtest, Ytrain, Ytest = train_test_split(heartdisease, heartdisease_labels, \n",
    "                                                            test_size = 0.2, random_state = 42)\n",
    "\n",
    "#printing out the shapes of the samples\n",
    "print(\"Xrawtrain shape:\", Xrawtrain.shape)\n",
    "print(\"Xrawtest shape:\", Xrawtest.shape)\n",
    "print(\"Ytrain shape:\", Yrawtrain.shape)\n",
    "print(\"Ytest shape:\", Yrawtest.shape)"
   ]
  },
  {
   "cell_type": "markdown",
   "metadata": {
    "id": "I7TWR8en1-aa"
   },
   "source": [
    "### We'll explore how not processing your data can impact model performance by using the K-Nearest Neighbor classifier. One thing to note was because KNN's rely on Euclidean distance, they are highly sensitive to the relative magnitude of different features. Let's see that in action! Implement a K-Nearest Neighbor algorithm on our raw data and report the results. For this initial implementation simply use the default settings. Refer to the [KNN Documentation](https://scikit-learn.org/stable/modules/generated/sklearn.neighbors.KNeighborsClassifier.html) for details on implementation. Report on the accuracy of the resulting model."
   ]
  },
  {
   "cell_type": "code",
   "execution_count": 146,
   "metadata": {
    "id": "D60t7Qe31-ab"
   },
   "outputs": [
    {
     "name": "stdout",
     "output_type": "stream",
     "text": [
      "Accuracy for Training Data: 0.7603305785123967\n",
      "Accuracy for Testing Data: 0.6885245901639344\n"
     ]
    }
   ],
   "source": [
    "# k-Nearest Neighbors algorithm\n",
    "knnraw = KNeighborsClassifier()\n",
    "knnraw.fit(Xrawtrain, Ytrain)\n",
    "\n",
    "predrawtrain = knnraw.predict(Xrawtrain)\n",
    "print(\"Accuracy for Training Data:\", metrics.accuracy_score(Ytrain,predrawtrain))\n",
    "\n",
    "predraw = knnraw.predict(Xrawtest)\n",
    "print(\"Accuracy for Testing Data:\", metrics.accuracy_score(Ytest, predraw))"
   ]
  },
  {
   "cell_type": "markdown",
   "metadata": {
    "id": "MeGfA2Cf1-ab"
   },
   "source": [
    "Overall, the accuracy score for this model is around 0.69, which means the model is performing averagely. On the training data, the model performed better, with a score of 0.76, which is considered kind of good. However, I think the model isn't performing too terribly, considering that it used raw training data that was not preprocessed. "
   ]
  },
  {
   "cell_type": "markdown",
   "metadata": {
    "id": "ofBgJMdH1-ac"
   },
   "source": [
    "### Now implement a pipeline of your choice. You can opt to handle categoricals however you wish, however please scale your numeric features using standard scaler. Use the fit_transform() to fit this pipeline to your training data. and then transform() to apply that pipeline to your test data"
   ]
  },
  {
   "cell_type": "markdown",
   "metadata": {
    "id": "xySOY-yS1-ad"
   },
   "source": [
    "### Pipeline:"
   ]
  },
  {
   "cell_type": "code",
   "execution_count": 81,
   "metadata": {
    "id": "WgX7OEo61-af"
   },
   "outputs": [
    {
     "data": {
      "text/plain": [
       "array([[-1.35679832, -0.61685555,  0.91403366, ...,  0.        ,\n",
       "         1.        ,  0.        ],\n",
       "       [ 0.38508599,  1.1694912 ,  0.43952674, ...,  0.        ,\n",
       "         0.        ,  1.        ],\n",
       "       [-0.92132724,  1.1694912 , -0.30070405, ...,  0.        ,\n",
       "         1.        ,  0.        ],\n",
       "       ...,\n",
       "       [ 1.58263146,  1.76494012, -0.24376322, ...,  0.        ,\n",
       "         1.        ,  0.        ],\n",
       "       [-0.92132724, -0.61685555,  0.04094093, ...,  0.        ,\n",
       "         0.        ,  1.        ],\n",
       "       [ 0.92942484,  0.57404228, -0.98399402, ...,  0.        ,\n",
       "         1.        ,  0.        ]])"
      ]
     },
     "execution_count": 81,
     "metadata": {},
     "output_type": "execute_result"
    }
   ],
   "source": [
    "from sklearn.pipeline import Pipeline\n",
    "from sklearn.preprocessing import StandardScaler, OneHotEncoder\n",
    "from sklearn.compose import ColumnTransformer, make_column_transformer\n",
    "\n",
    "#remove categorical variables\n",
    "heartdiseasedropped = heartdisease.drop(['sex', 'cp', 'fbs', 'restecg', 'exang', \n",
    "                                         'slope', 'thal'], axis = 1)\n",
    "\n",
    "num_pipeline = Pipeline([('std_scaler', StandardScaler())])\n",
    "\n",
    "numerical_features = list(heartdiseasedropped)\n",
    "categorical_features = ['sex', 'cp', 'fbs', 'restecg', 'exang', 'slope', 'thal']\n",
    "\n",
    "full_pipeline = ColumnTransformer([\n",
    "        (\"num\", num_pipeline, numerical_features),\n",
    "        (\"cat\", OneHotEncoder(categories='auto', handle_unknown='ignore'), categorical_features),\n",
    "    ])\n",
    "\n",
    "full_pipeline = full_pipeline.fit(Xrawtrain)\n",
    "Xtrain = full_pipeline.transform(Xrawtrain)\n",
    "Xtrain"
   ]
  },
  {
   "cell_type": "code",
   "execution_count": 82,
   "metadata": {
    "id": "WHQZzYiTJ3US"
   },
   "outputs": [
    {
     "data": {
      "text/plain": [
       "array([[ 0.27621823,  1.1694912 ,  0.5534084 , ...,  1.        ,\n",
       "         0.        ,  0.        ],\n",
       "       [ 0.49395376,  2.36038903,  0.78117172, ...,  0.        ,\n",
       "         0.        ,  1.        ],\n",
       "       [ 0.27621823,  1.1694912 , -2.29363312, ...,  0.        ,\n",
       "         0.        ,  1.        ],\n",
       "       ...,\n",
       "       [ 1.47376369,  0.81222185, -1.02195457, ...,  0.        ,\n",
       "         0.        ,  1.        ],\n",
       "       [ 0.60282153,  0.87176674,  0.66729006, ...,  0.        ,\n",
       "         0.        ,  1.        ],\n",
       "       [-0.48585616,  1.1694912 , -0.07294073, ...,  0.        ,\n",
       "         0.        ,  1.        ]])"
      ]
     },
     "execution_count": 82,
     "metadata": {},
     "output_type": "execute_result"
    }
   ],
   "source": [
    "# Pipeline my test data\n",
    "Xtest = full_pipeline.transform(Xrawtest)\n",
    "Xtest"
   ]
  },
  {
   "cell_type": "markdown",
   "metadata": {
    "id": "GMbUOszrJOM0"
   },
   "source": [
    "### Now retrain your model and compare the accuracy metrics with the raw and pipelined data. "
   ]
  },
  {
   "cell_type": "code",
   "execution_count": 86,
   "metadata": {
    "id": "K4JqymGE1-an"
   },
   "outputs": [
    {
     "name": "stdout",
     "output_type": "stream",
     "text": [
      "Accuracy for training data: 0.871900826446281\n",
      "Accuracy for testing data: 0.8852459016393442\n"
     ]
    }
   ],
   "source": [
    "# k-Nearest Neighbors algorithm\n",
    "knn = KNeighborsClassifier()\n",
    "knn.fit(Xtrain, Ytrain)\n",
    "\n",
    "knnpredtrain = knn.predict(Xtrain)\n",
    "print(\"Accuracy for training data:\", metrics.accuracy_score(Ytrain, knnpredtrain))\n",
    "\n",
    "knnpredtest = knn.predict(Xtest)\n",
    "print(\"Accuracy for testing data:\", metrics.accuracy_score(Ytest, knnpredtest))"
   ]
  },
  {
   "cell_type": "markdown",
   "metadata": {
    "id": "vjDfPNK01-ao"
   },
   "source": [
    "The accuracy for the model using pipelined data is around 0.88, which is much higher than for the model using raw data, which was around 0.69. The difference between the two model is around 0.19. This means that this model is working a lot better (19% better), with 88% of the predictions being accurate. "
   ]
  },
  {
   "cell_type": "markdown",
   "metadata": {
    "id": "t3Kx4nH91-ap"
   },
   "source": [
    "### Parameter Optimization.  The KNN Algorithm includes an n_neighbors attribute that specifies how many neighbors to use when developing the cluster. (The default value is 5, which is what your previous model used.) Lets now try n values of: 1, 2, 3, 5, 7, 9, 10, 20, and 50. Run your model for each value and report the accuracy for each. (HINT leverage python's ability to loop to run through the array and generate results without needing to manually code each iteration)."
   ]
  },
  {
   "cell_type": "code",
   "execution_count": 93,
   "metadata": {
    "id": "_aQa6hMT1-aq"
   },
   "outputs": [
    {
     "data": {
      "text/html": [
       "<div>\n",
       "<style scoped>\n",
       "    .dataframe tbody tr th:only-of-type {\n",
       "        vertical-align: middle;\n",
       "    }\n",
       "\n",
       "    .dataframe tbody tr th {\n",
       "        vertical-align: top;\n",
       "    }\n",
       "\n",
       "    .dataframe thead th {\n",
       "        text-align: right;\n",
       "    }\n",
       "</style>\n",
       "<table border=\"1\" class=\"dataframe\">\n",
       "  <thead>\n",
       "    <tr style=\"text-align: right;\">\n",
       "      <th></th>\n",
       "      <th>n value</th>\n",
       "      <th>Train Score</th>\n",
       "      <th>Test Score</th>\n",
       "    </tr>\n",
       "  </thead>\n",
       "  <tbody>\n",
       "    <tr>\n",
       "      <th>0</th>\n",
       "      <td>1</td>\n",
       "      <td>1.000000</td>\n",
       "      <td>0.852459</td>\n",
       "    </tr>\n",
       "    <tr>\n",
       "      <th>1</th>\n",
       "      <td>2</td>\n",
       "      <td>0.880165</td>\n",
       "      <td>0.885246</td>\n",
       "    </tr>\n",
       "    <tr>\n",
       "      <th>2</th>\n",
       "      <td>3</td>\n",
       "      <td>0.888430</td>\n",
       "      <td>0.852459</td>\n",
       "    </tr>\n",
       "    <tr>\n",
       "      <th>3</th>\n",
       "      <td>5</td>\n",
       "      <td>0.871901</td>\n",
       "      <td>0.885246</td>\n",
       "    </tr>\n",
       "    <tr>\n",
       "      <th>4</th>\n",
       "      <td>7</td>\n",
       "      <td>0.876033</td>\n",
       "      <td>0.885246</td>\n",
       "    </tr>\n",
       "    <tr>\n",
       "      <th>5</th>\n",
       "      <td>9</td>\n",
       "      <td>0.842975</td>\n",
       "      <td>0.885246</td>\n",
       "    </tr>\n",
       "    <tr>\n",
       "      <th>6</th>\n",
       "      <td>10</td>\n",
       "      <td>0.830579</td>\n",
       "      <td>0.885246</td>\n",
       "    </tr>\n",
       "    <tr>\n",
       "      <th>7</th>\n",
       "      <td>20</td>\n",
       "      <td>0.826446</td>\n",
       "      <td>0.901639</td>\n",
       "    </tr>\n",
       "    <tr>\n",
       "      <th>8</th>\n",
       "      <td>50</td>\n",
       "      <td>0.818182</td>\n",
       "      <td>0.885246</td>\n",
       "    </tr>\n",
       "  </tbody>\n",
       "</table>\n",
       "</div>"
      ],
      "text/plain": [
       "   n value  Train Score  Test Score\n",
       "0        1     1.000000    0.852459\n",
       "1        2     0.880165    0.885246\n",
       "2        3     0.888430    0.852459\n",
       "3        5     0.871901    0.885246\n",
       "4        7     0.876033    0.885246\n",
       "5        9     0.842975    0.885246\n",
       "6       10     0.830579    0.885246\n",
       "7       20     0.826446    0.901639\n",
       "8       50     0.818182    0.885246"
      ]
     },
     "execution_count": 93,
     "metadata": {},
     "output_type": "execute_result"
    }
   ],
   "source": [
    "knn_results = [] #to store the results\n",
    "\n",
    "n_values = [1, 2, 3, 5, 7, 9, 10, 20, 50] \n",
    "\n",
    "#for loop to go through each iteration of fitting a model with n_values\n",
    "for i in n_values:\n",
    "    knn = KNeighborsClassifier(n_neighbors = i)\n",
    "    knn.fit(Xtrain, Ytrain)\n",
    "    \n",
    "    trainscore = knn.score(Xtrain, Ytrain)\n",
    "    testscore = knn.score(Xtest, Ytest)\n",
    "    \n",
    "    knn_results.append((i, trainscore, testscore))\n",
    "\n",
    "knn_r = pd.DataFrame(knn_results, columns = ['n value', 'Train Score', 'Test Score'])\n",
    "knn_r"
   ]
  },
  {
   "cell_type": "markdown",
   "metadata": {},
   "source": [
    "From these results, the most optimal n value is 20, with an accuracy score of around 90%."
   ]
  },
  {
   "cell_type": "markdown",
   "metadata": {
    "id": "uq4htLuI1-aq"
   },
   "source": [
    "## Part 3. Additional Learning Methods "
   ]
  },
  {
   "cell_type": "markdown",
   "metadata": {
    "id": "W2pXCSFS1-ar"
   },
   "source": [
    "So we have a model that seems to work well. But let's see if we can do better! To do so we'll employ multiple learning methods and compare result."
   ]
  },
  {
   "cell_type": "markdown",
   "metadata": {
    "id": "_qs89tu81-ar"
   },
   "source": [
    "### Linear Decision Boundary Methods "
   ]
  },
  {
   "cell_type": "markdown",
   "metadata": {
    "id": "NaZ_NkZM1-as"
   },
   "source": [
    "### Logistic Regression"
   ]
  },
  {
   "cell_type": "markdown",
   "metadata": {
    "id": "PtWdZgsY1-as"
   },
   "source": [
    "Let's now try another classifier,one that's well known for handling linear models: Logistic Regression. Logistic regression is a statistical model that in its basic form uses a logistic function to model a binary dependent variable."
   ]
  },
  {
   "cell_type": "markdown",
   "metadata": {
    "id": "ycUesx_E1-at"
   },
   "source": [
    "### Implement a Logistical Regression Classifier. Review the [Logistical Regression Documentation](https://scikit-learn.org/stable/modules/generated/sklearn.linear_model.LogisticRegression.html) for how to implement the model. \n",
    "\n",
    "### This time in addition to accuracy report metrics for: \n",
    "1.   Accuracy\n",
    "2.   Precision\n",
    "3.   Recall\n",
    "4.   F1 Score\n",
    "\n"
   ]
  },
  {
   "cell_type": "code",
   "execution_count": 94,
   "metadata": {
    "id": "oZtnRX5f1-au"
   },
   "outputs": [
    {
     "data": {
      "text/plain": [
       "LogisticRegression(solver='liblinear')"
      ]
     },
     "execution_count": 94,
     "metadata": {},
     "output_type": "execute_result"
    }
   ],
   "source": [
    "# Logistic Regression\n",
    "logreg = LogisticRegression(solver = 'liblinear')\n",
    "logreg.fit(Xtrain, Ytrain)"
   ]
  },
  {
   "cell_type": "code",
   "execution_count": 95,
   "metadata": {},
   "outputs": [
    {
     "name": "stdout",
     "output_type": "stream",
     "text": [
      "Accuracy: 0.9016393442622951\n",
      "Precision: 0.8709677419354839\n",
      "Recall: 0.9310344827586207\n",
      "F1 Score: 0.9\n"
     ]
    }
   ],
   "source": [
    "logregpred = logreg.predict(Xtest)\n",
    "\n",
    "print(\"Accuracy:\", metrics.accuracy_score(Ytest, logregpred))\n",
    "print(\"Precision:\", metrics.precision_score(Ytest, logregpred))\n",
    "print(\"Recall:\", metrics.recall_score(Ytest, logregpred))\n",
    "print(\"F1 Score:\", metrics.f1_score(Ytest, logregpred))"
   ]
  },
  {
   "cell_type": "markdown",
   "metadata": {},
   "source": [
    "The model performs fairly well, with good accuracy report metrics for accuracy (0.90), precision (0.87), recall (0.93), and f1 (0.9). "
   ]
  },
  {
   "cell_type": "markdown",
   "metadata": {
    "id": "rxc0eyNm1-a7"
   },
   "source": [
    "### Discuss what each measure is reporting, why they are different, and why are each of these measures is significant. Explore why we might choose to evaluate the performance of differing models differently based on these factors. Try to give some specific examples of scenarios in which you might value one of these measures over the others."
   ]
  },
  {
   "cell_type": "markdown",
   "metadata": {
    "id": "Wu8lKGYL1-a7"
   },
   "source": [
    "Accuracy is the fraction of predictions that the model got correct (accuracy = number of correct predictions / total number of predictions). Accuracy is important as it tells us how often we can expect our model to correctly predict an outcome. This method to evaluate a model is best for when neither false negatives or false positives are more important to catch than the other because it only considers the number of true positives and true negatives made buy the model. For example, for a model is being used to predict whether a patient has a disease, a false positive wouldn't be as severe as a false negative. This metric is also not very reliable to use when dealing with imbalanced datasets. \n",
    "\n",
    "Precision is the fraction of samples that were classified as positives that were correct. It is the ratio of true positives to the sum of true positives and false positives. It tells us how many of the positively labelled points are actually positive. An example of where you would want greater precision is spam email filters, because a large number of false positive means that a lot of important emails are being tagged as spam. Also, this is a very useful measure when the datasets are very imbalanced.\n",
    "\n",
    "Recall is the ability to correctly predict the positives out of actual positives. It is the ratio of true positives to the sum of true positives and false negatives. This method is useful when evaluating models where we want a high accuracy because it measures how good the model is at identifying all actual positives out of all the positives that exist in the dataset. For example, for a credit card fraud detection system, you would want a high recall score to avoid false negatives, which would mean less fraud. This is also a usebul metric for imbalanced datasets.\n",
    "\n",
    "F1 score is the weighted average of the recall and precision score (f1 score = 2 * precision score * recall score / (precision score + recall score). This is useful to use when neither false negatives or false positives are important to consider than another. This is also useful to use when choosing either precision or recall score can result in compromise because takes into account the balance between both of those scores."
   ]
  },
  {
   "cell_type": "markdown",
   "metadata": {
    "id": "rVc5lMGZ1-av"
   },
   "source": [
    "### Let's tweak a few settings. First let's set your solver to 'sag', your max_iter= 10, and set penalty = 'none' and rerun your model. Let's see how your results change!"
   ]
  },
  {
   "cell_type": "code",
   "execution_count": 97,
   "metadata": {
    "id": "82CwH2261-aw"
   },
   "outputs": [
    {
     "name": "stdout",
     "output_type": "stream",
     "text": [
      "Accuracy: 0.8852459016393442\n",
      "Precision: 0.84375\n",
      "Recall: 0.9310344827586207\n",
      "F1 Score: 0.8852459016393444\n"
     ]
    },
    {
     "name": "stderr",
     "output_type": "stream",
     "text": [
      "/opt/anaconda3/lib/python3.8/site-packages/sklearn/linear_model/_sag.py:328: ConvergenceWarning: The max_iter was reached which means the coef_ did not converge\n",
      "  warnings.warn(\"The max_iter was reached which means \"\n"
     ]
    }
   ],
   "source": [
    "# Logistic Regression\n",
    "logreg2 = LogisticRegression(solver = 'sag', max_iter = 10, penalty = 'none')\n",
    "logreg2.fit(Xtrain, Ytrain)\n",
    "\n",
    "logregpred2 = logreg2.predict(Xtest)\n",
    "print(\"Accuracy:\", metrics.accuracy_score(Ytest, logregpred2))\n",
    "print(\"Precision:\", metrics.precision_score(Ytest, logregpred2))\n",
    "print(\"Recall:\", metrics.recall_score(Ytest, logregpred2))\n",
    "print(\"F1 Score:\", metrics.f1_score(Ytest, logregpred2))"
   ]
  },
  {
   "cell_type": "markdown",
   "metadata": {},
   "source": [
    "The results come out slightly worse than the model above, but overall, the model still performs fairly well. "
   ]
  },
  {
   "cell_type": "markdown",
   "metadata": {
    "id": "CaLDf1Wn1-ax"
   },
   "source": [
    "### Did you notice that when you ran the previous model you got the following warning: \"ConvergenceWarning: The max_iter was reached which means the coef_ did not converge\". Check the documentation and see if you can implement a fix for this problem, and again report your results."
   ]
  },
  {
   "cell_type": "code",
   "execution_count": 112,
   "metadata": {
    "id": "HGaSV3wo1-ay"
   },
   "outputs": [
    {
     "name": "stdout",
     "output_type": "stream",
     "text": [
      "Accuracy: 0.8852459016393442\n",
      "Precision: 0.8666666666666667\n",
      "Recall: 0.896551724137931\n",
      "F1 Score: 0.8813559322033899\n"
     ]
    }
   ],
   "source": [
    "# Logistic Regression\n",
    "logreg3 = LogisticRegression(solver = 'sag', max_iter = 3800, penalty = 'none')\n",
    "logreg3.fit(Xtrain, Ytrain)\n",
    "\n",
    "logregpred3 = logreg3.predict(Xtest)\n",
    "print(\"Accuracy:\", metrics.accuracy_score(Ytest, logregpred3))\n",
    "print(\"Precision:\", metrics.precision_score(Ytest, logregpred3))\n",
    "print(\"Recall:\", metrics.recall_score(Ytest, logregpred3))\n",
    "print(\"F1 Score:\", metrics.f1_score(Ytest, logregpred3))"
   ]
  },
  {
   "cell_type": "markdown",
   "metadata": {},
   "source": [
    "Compared to the model above, the accuracy and f1 score are around the same. But, this model has a higher precision (0.87) compared to the model above (0.84). However, this model has a lower recall score (0.90) than the model above (0.93)."
   ]
  },
  {
   "cell_type": "markdown",
   "metadata": {
    "id": "Rw1YFl1Y1-a0"
   },
   "source": [
    "### Explain what you changed, and why do you think that may have altered the outcome. "
   ]
  },
  {
   "cell_type": "markdown",
   "metadata": {
    "id": "gYiZLct01-a1"
   },
   "source": [
    "I changed the \"max_iter\" parameter of the logistic regression model from 10 to 3800. This may have altered the outcome because with more iterations, the model is more likely to converge and find the correct parameters. However, there isn't really much of an improvement in the model with a higher max_iter rate. This might be due to the dataset being able to converge quickly, so there won't be a significant improvement in performance. "
   ]
  },
  {
   "cell_type": "markdown",
   "metadata": {
    "id": "M59dRwK81-a2"
   },
   "source": [
    "### Rerun your logistic classifier, but modify the penalty = 'l1', solver='liblinear' and again report the results."
   ]
  },
  {
   "cell_type": "code",
   "execution_count": 113,
   "metadata": {
    "id": "Xsw3IKrs1-a2"
   },
   "outputs": [
    {
     "name": "stdout",
     "output_type": "stream",
     "text": [
      "Accuracy: 0.9016393442622951\n",
      "Precision: 0.8709677419354839\n",
      "Recall: 0.9310344827586207\n",
      "F1 Score: 0.9\n"
     ]
    }
   ],
   "source": [
    "logreg4 = LogisticRegression(solver = 'liblinear', penalty = 'l1')\n",
    "logreg4.fit(Xtrain, Ytrain)\n",
    "\n",
    "logregpred4 = logreg4.predict(Xtest)\n",
    "print(\"Accuracy:\", metrics.accuracy_score(Ytest, logregpred4))\n",
    "print(\"Precision:\", metrics.precision_score(Ytest, logregpred4))\n",
    "print(\"Recall:\", metrics.recall_score(Ytest, logregpred4))\n",
    "print(\"F1 Score:\", metrics.f1_score(Ytest, logregpred4))"
   ]
  },
  {
   "cell_type": "markdown",
   "metadata": {},
   "source": [
    "The results of this model show that it performs well, with an accuracy of 0.90, precision of 0.87, recall of 0.93, and f1 of 0.9. These results show an improvement from the previous two models."
   ]
  },
  {
   "cell_type": "markdown",
   "metadata": {
    "id": "gUxx3eFy1-a3"
   },
   "source": [
    "### Explain what what the two solver approaches are, and why liblinear may have produced an improved outcome (but not always, and it's ok if your results show otherwise!). "
   ]
  },
  {
   "cell_type": "markdown",
   "metadata": {
    "id": "mJZIVyvS1-a4"
   },
   "source": [
    "The penalty 'l1' limits the size of the coefficients by using the sum of the absolute values of the parameters. This can be helpful by eradicating unimportant features in the dataset. The liblinear solver might have produced an improved outcome because it is efficient for training large-scale problems. "
   ]
  },
  {
   "cell_type": "markdown",
   "metadata": {
    "id": "C95mrPjA1-a4"
   },
   "source": [
    "### SVM (Support Vector Machine)"
   ]
  },
  {
   "cell_type": "markdown",
   "metadata": {
    "id": "OJYSnWKf1-a5"
   },
   "source": [
    "A Support Vector Machine (SVM) is a discriminative classifier formally defined by a separating hyperplane. In other words, given labeled training data (supervised learning), the algorithm outputs an optimal hyperplane which categorizes new examples. In two dimentional space this hyperplane is a line dividing a plane in two parts where in each class lay in either side."
   ]
  },
  {
   "cell_type": "markdown",
   "metadata": {
    "id": "ZUAfw9mF1-a5"
   },
   "source": [
    "### Implement a Support Vector Machine classifier on your pipelined data. Review the [SVM Documentation](https://scikit-learn.org/stable/modules/generated/sklearn.svm.SVC.html) for how to implement a model. For this implementation you can simply use the default settings, but set probability = True."
   ]
  },
  {
   "cell_type": "code",
   "execution_count": 114,
   "metadata": {
    "id": "3kT3sHrW1-a6"
   },
   "outputs": [
    {
     "data": {
      "text/plain": [
       "SVC(probability=True)"
      ]
     },
     "execution_count": 114,
     "metadata": {},
     "output_type": "execute_result"
    }
   ],
   "source": [
    "# SVM\n",
    "svm = SVC(probability = True)\n",
    "svm.fit(Xtrain, Ytrain)"
   ]
  },
  {
   "cell_type": "markdown",
   "metadata": {
    "id": "wVNvSFJt1-a6"
   },
   "source": [
    "### Report the accuracy, precision, recall, F1 Score, of your model, but in addition, plot a Confusion Matrix of your model's performance\n",
    "\n",
    "recommend using the `from sklearn.metrics import plot_confusion_matrix` library for this one!\n"
   ]
  },
  {
   "cell_type": "code",
   "execution_count": 135,
   "metadata": {
    "id": "3If-zbZG1-a6"
   },
   "outputs": [
    {
     "name": "stdout",
     "output_type": "stream",
     "text": [
      "Accuracy: 0.9016393442622951\n",
      "Precision: 0.8709677419354839\n",
      "Recall: 0.9310344827586207\n",
      "F1 Score: 0.9\n"
     ]
    }
   ],
   "source": [
    "svmpred = svm.predict(Xtest)\n",
    "\n",
    "print(\"Accuracy:\", metrics.accuracy_score(Ytest, svmpred))\n",
    "print(\"Precision:\", metrics.precision_score(Ytest, svmpred))\n",
    "print(\"Recall:\", metrics.recall_score(Ytest, svmpred))\n",
    "print(\"F1 Score:\", metrics.f1_score(Ytest, svmpred))"
   ]
  },
  {
   "cell_type": "code",
   "execution_count": 122,
   "metadata": {
    "id": "Vzc0MVWDe7w7"
   },
   "outputs": [
    {
     "data": {
      "image/png": "[encoded data removed]",
      "text/plain": [
       "<Figure size 432x288 with 2 Axes>"
      ]
     },
     "metadata": {},
     "output_type": "display_data"
    }
   ],
   "source": [
    "cnf_matrix = confusion_matrix(Ytest, svmpred)\n",
    "\n",
    "cnf_matrix_plot = pd.DataFrame(cnf_matrix, range(2), range(2))\n",
    "\n",
    "sns.set(font_scale = 1.4)\n",
    "sns.heatmap(cnf_matrix_plot, annot=True, annot_kws={\"size\": 16})\n",
    "\n",
    "plt.show()"
   ]
  },
  {
   "cell_type": "markdown",
   "metadata": {
    "id": "HaXoiMYd1-a8"
   },
   "source": [
    "### Plot a Receiver Operating Characteristic curve, or ROC curve, and describe what it is and what the results indicate"
   ]
  },
  {
   "cell_type": "code",
   "execution_count": 141,
   "metadata": {
    "id": "_pCVtTnK1-a8"
   },
   "outputs": [
    {
     "data": {
      "image/png": "[encoded data removed]",
      "text/plain": [
       "<Figure size 432x288 with 1 Axes>"
      ]
     },
     "metadata": {},
     "output_type": "display_data"
    }
   ],
   "source": [
    "svmpredprob = svm.predict_proba(Xtest)[::,1]\n",
    "fpr, tpr, thresholds = metrics.roc_curve(Ytest, svmpredprob)\n",
    "\n",
    "plt.plot(fpr, tpr)\n",
    "plt.xlabel('False Positive Rate')\n",
    "plt.ylabel('True Positive Rate')\n",
    "plt.title('Receiver Operating Characteristic (ROC) Curve')\n",
    "plt.show()"
   ]
  },
  {
   "cell_type": "markdown",
   "metadata": {
    "id": "O7NfLZoL1-a9"
   },
   "source": [
    "The ROC curve is a probability curve that plots the relationship between false positive and true positive rates. It tells how well the model can distinguish between classes. The greater the area under an ROC curve, the more useful the test is. These results indicate an average area under the ROC curve, so the model isn't particularly great at distinguishing between positives and negatives."
   ]
  },
  {
   "cell_type": "markdown",
   "metadata": {
    "id": "Vx7L-bgW1-a9"
   },
   "source": [
    "### Rerun your SVM, but now modify your model parameter kernel to equal 'linear'. Again report your Accuracy, Precision, Recall, F1 scores, and Confusion matrix and plot the new ROC curve.  "
   ]
  },
  {
   "cell_type": "code",
   "execution_count": 142,
   "metadata": {
    "id": "O6KpYps71-a-"
   },
   "outputs": [
    {
     "data": {
      "text/plain": [
       "SVC(kernel='linear', probability=True)"
      ]
     },
     "execution_count": 142,
     "metadata": {},
     "output_type": "execute_result"
    }
   ],
   "source": [
    "# SVM\n",
    "svm2 = SVC(probability = True, kernel = 'linear')\n",
    "svm2.fit(Xtrain, Ytrain)"
   ]
  },
  {
   "cell_type": "code",
   "execution_count": 143,
   "metadata": {
    "id": "Wlnzo0uL1-a-"
   },
   "outputs": [
    {
     "name": "stdout",
     "output_type": "stream",
     "text": [
      "Accuracy: 0.8524590163934426\n",
      "Precision: 0.8125\n",
      "Recall: 0.896551724137931\n",
      "F1 Score: 0.8524590163934426\n"
     ]
    }
   ],
   "source": [
    "svmpred2 = svm2.predict(Xtest)\n",
    "\n",
    "print(\"Accuracy:\", metrics.accuracy_score(Ytest, svmpred2))\n",
    "print(\"Precision:\", metrics.precision_score(Ytest, svmpred2))\n",
    "print(\"Recall:\", metrics.recall_score(Ytest, svmpred2))\n",
    "print(\"F1 Score:\", metrics.f1_score(Ytest, svmpred2))"
   ]
  },
  {
   "cell_type": "code",
   "execution_count": 144,
   "metadata": {
    "id": "qgTiftKK1-a_"
   },
   "outputs": [
    {
     "data": {
      "image/png": "[encoded data removed]",
      "text/plain": [
       "<Figure size 432x288 with 2 Axes>"
      ]
     },
     "metadata": {},
     "output_type": "display_data"
    }
   ],
   "source": [
    "cnf_matrix2 = confusion_matrix(Ytest, svmpred2)\n",
    "\n",
    "cnf_matrix_plot2 = pd.DataFrame(cnf_matrix2, range(2), range(2))\n",
    "\n",
    "sns.set(font_scale = 1.4)\n",
    "sns.heatmap(cnf_matrix_plot2, annot=True, annot_kws={\"size\": 16})\n",
    "\n",
    "plt.show()"
   ]
  },
  {
   "cell_type": "code",
   "execution_count": 145,
   "metadata": {},
   "outputs": [
    {
     "data": {
      "image/png": "[encoded data removed]",
      "text/plain": [
       "<Figure size 432x288 with 1 Axes>"
      ]
     },
     "metadata": {},
     "output_type": "display_data"
    }
   ],
   "source": [
    "svmpredprob2 = svm2.predict_proba(Xtest)[::,1]\n",
    "fpr, tpr, thresholds = metrics.roc_curve(Ytest, svmpredprob2)\n",
    "\n",
    "plt.plot(fpr, tpr)\n",
    "plt.xlabel('False Positive Rate')\n",
    "plt.ylabel('True Positive Rate')\n",
    "plt.title('Receiver Operating Characteristic (ROC) Curve')\n",
    "plt.show()"
   ]
  },
  {
   "cell_type": "markdown",
   "metadata": {
    "id": "OW_lqTMn1-bA"
   },
   "source": [
    "### Explain the what the new results you've achieved mean. Read the documentation to understand what you've changed about your model and explain why changing that input parameter might impact the results in the manner you've observed."
   ]
  },
  {
   "cell_type": "markdown",
   "metadata": {
    "id": "Gdji_tZn1-bA"
   },
   "source": [
    "The new results show that the model is performing slightly worse than the previous model. Changing the kernel to linear is used when the data is linearly separable. This dataset may not be nicely separated with a single line, so it is performing worse."
   ]
  },
  {
   "cell_type": "markdown",
   "metadata": {
    "id": "0uoAdwas1-bB"
   },
   "source": [
    "### Both logistic regression and linear SVM are trying to classify data points using a linear decision boundary, then what’s the difference between their ways to find this boundary?"
   ]
  },
  {
   "cell_type": "markdown",
   "metadata": {
    "id": "wZvy7RTF1-bC"
   },
   "source": [
    "SVM is based on geometrical properties of the data while logistic regression is based on statistical approches. The risk of overfitting is less in SVM, and logistic regression is vulnerable to overfitting."
   ]
  },
  {
   "cell_type": "code",
   "execution_count": null,
   "metadata": {},
   "outputs": [],
   "source": []
  }
 ],
 "metadata": {
  "colab": {
   "provenance": []
  },
  "kernelspec": {
   "display_name": "Python 3",
   "language": "python",
   "name": "python3"
  },
  "language_info": {
   "codemirror_mode": {
    "name": "ipython",
    "version": 3
   },
   "file_extension": ".py",
   "mimetype": "text/x-python",
   "name": "python",
   "nbconvert_exporter": "python",
   "pygments_lexer": "ipython3",
   "version": "3.8.8"
  }
 },
 "nbformat": 4,
 "nbformat_minor": 1
}
